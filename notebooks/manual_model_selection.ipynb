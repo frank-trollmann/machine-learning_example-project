{
 "cells": [
  {
   "attachments": {},
   "cell_type": "markdown",
   "metadata": {},
   "source": [
    "# Manual Model Selection Playground\n",
    "\n",
    "This notebook is intended as a playground to test out different models. It allows you to load data, create a model and evaluate that model.\n",
    "\n",
    "First, let's do the input."
   ]
  },
  {
   "cell_type": "code",
   "execution_count": 1,
   "metadata": {},
   "outputs": [
    {
     "name": "stdout",
     "output_type": "stream",
     "text": [
      "c:\\Users\\frank\\Documents\\Teaching\\LU\\Spring2023\\Machine Learning² Unit\\Machine Learning Example Project\n"
     ]
    }
   ],
   "source": [
    "# Correct working directory. But only once. \n",
    "if not \"working_directory_corrected\" in vars():\n",
    "    %cd ..\n",
    "    working_directory_corrected = True\n",
    "\n",
    "import pathlib\n",
    "import numpy as np\n",
    "import matplotlib.pyplot as plt\n",
    "import tensorflow as tf\n",
    "\n",
    "from sklearn.model_selection import train_test_split\n",
    "from keras.models import Sequential  # Model type to be used\n",
    "from keras import layers\n",
    "\n",
    "from evaluation.evaluation_metrics import EvaluationMetrics\n",
    "from data.dataset import Dataset\n",
    "\n",
    "ROOT_DIR = pathlib.Path().resolve()\n",
    "MODEL_ARCH_DIR = str(ROOT_DIR / pathlib.Path(\"data/dataset/images/model-arch\")) + \"/\"\n",
    "dataset = Dataset()\n",
    "\n",
    "tf.compat.v1.enable_eager_execution()"
   ]
  },
  {
   "attachments": {},
   "cell_type": "markdown",
   "metadata": {},
   "source": [
    "## Data Loading\n",
    "\n",
    "Here we load our dataset and split it into training and test data. \n",
    "For this cell to work you need to run notebook data_preparation.ipynb at least once. It processes the data that is loaded here."
   ]
  },
  {
   "cell_type": "code",
   "execution_count": 2,
   "metadata": {},
   "outputs": [],
   "source": [
    "X, y = dataset.get_prepared_data()\n",
    "X_train, X_test, y_train, y_test = train_test_split(X, y, test_size=0.2, random_state = 7)"
   ]
  },
  {
   "attachments": {},
   "cell_type": "markdown",
   "metadata": {},
   "source": [
    "## Model Creation\n",
    "\n",
    "Here we create the model. The below cell can be changed in order to test out different models. \n",
    "\n",
    "Here are some links that might come handy for this.\n",
    "- [Sequential Model](https://www.tensorflow.org/guide/keras/sequential_model?hl=en)\n",
    "- [Model Layers](https://www.tensorflow.org/api_docs/python/tf/keras/layers)\n",
    "- [Metrics](https://www.tensorflow.org/api_docs/python/tf/keras/metrics)\n",
    "- [Loses](https://www.tensorflow.org/api_docs/python/tf/keras/losses)\n",
    "- [Activations](https://www.tensorflow.org/api_docs/python/tf/keras/activations)\n",
    "- [Optimizers](https://www.tensorflow.org/api_docs/python/tf/keras/optimizers)"
   ]
  },
  {
   "cell_type": "code",
   "execution_count": 27,
   "metadata": {},
   "outputs": [
    {
     "name": "stdout",
     "output_type": "stream",
     "text": [
      "Model: \"My Custom Model\"\n",
      "_________________________________________________________________\n",
      " Layer (type)                Output Shape              Param #   \n",
      "=================================================================\n",
      " conv2d_10 (Conv2D)          (None, 118, 118, 10)      280       \n",
      "                                                                 \n",
      " max_pooling2d_9 (MaxPooling  (None, 59, 59, 10)       0         \n",
      " 2D)                                                             \n",
      "                                                                 \n",
      " conv2d_11 (Conv2D)          (None, 57, 57, 10)        910       \n",
      "                                                                 \n",
      " max_pooling2d_10 (MaxPoolin  (None, 29, 29, 10)       0         \n",
      " g2D)                                                            \n",
      "                                                                 \n",
      " flatten_6 (Flatten)         (None, 8410)              0         \n",
      "                                                                 \n",
      " dense_12 (Dense)            (None, 10)                84110     \n",
      "                                                                 \n",
      " dense_13 (Dense)            (None, 18)                198       \n",
      "                                                                 \n",
      "=================================================================\n",
      "Total params: 85,498\n",
      "Trainable params: 85,498\n",
      "Non-trainable params: 0\n",
      "_________________________________________________________________\n"
     ]
    }
   ],
   "source": [
    "model_name = \"My Custom Model\"\n",
    "\n",
    "# Sequential Model\n",
    "model = Sequential(name=model_name)\n",
    "model.add(layer=layers.Input(shape= (120, 120, 3)))\n",
    "\n",
    "# create the model\n",
    "model.add(layer=layers.Conv2D(filters=10, kernel_size=(3, 3), activation=\"relu\"))\n",
    "model.add(layer=layers.MaxPooling2D(pool_size=(2, 2), padding=\"same\"))  \n",
    "\n",
    "model.add(layer=layers.Conv2D(filters=10, kernel_size=(3, 3), activation=\"relu\"))\n",
    "model.add(layer=layers.MaxPooling2D(pool_size=(2, 2), padding=\"same\"))\n",
    "\n",
    "model.add(layer=layers.Flatten())\n",
    "\n",
    "model.add(layer=layers.Dense(units=10, activation=\"relu\"))\n",
    "model.add(layer=layers.Dense(units=18, activation=\"softmax\"))\n",
    "\n",
    "# See all your added layers\n",
    "model.summary()"
   ]
  },
  {
   "attachments": {},
   "cell_type": "markdown",
   "metadata": {},
   "source": [
    "## Training\n",
    "\n",
    "Here we train the model.\n",
    "If you know what you are doing, you can also play around with different training parameters by changing the content of the cell below."
   ]
  },
  {
   "cell_type": "code",
   "execution_count": 28,
   "metadata": {},
   "outputs": [],
   "source": [
    "# Hyperparameters\n",
    "training_parameters = {\n",
    "    \"loss\": \"binary_crossentropy\",\n",
    "    \"optimizer\": \"adam\",\n",
    "    \"monitored_func\": \"val_loss\",\n",
    "    \"epochs\": 100,\n",
    "}"
   ]
  },
  {
   "attachments": {},
   "cell_type": "markdown",
   "metadata": {},
   "source": [
    "The following cell trains the model. It stops after the specified amount of epochs or if there has been no improvement to the test score for 5 epochs."
   ]
  },
  {
   "cell_type": "code",
   "execution_count": 29,
   "metadata": {},
   "outputs": [
    {
     "name": "stdout",
     "output_type": "stream",
     "text": [
      "Epoch 1/100\n",
      "21/21 [==============================] - 6s 286ms/step - loss: 0.6259 - val_loss: 0.5974\n",
      "Epoch 2/100\n",
      "21/21 [==============================] - 6s 291ms/step - loss: 0.5711 - val_loss: 0.5498\n",
      "Epoch 3/100\n",
      "21/21 [==============================] - 6s 275ms/step - loss: 0.5235 - val_loss: 0.5020\n",
      "Epoch 4/100\n",
      "21/21 [==============================] - 6s 279ms/step - loss: 0.4758 - val_loss: 0.4556\n",
      "Epoch 5/100\n",
      "21/21 [==============================] - 5s 259ms/step - loss: 0.4299 - val_loss: 0.4122\n",
      "Epoch 6/100\n",
      "21/21 [==============================] - 6s 269ms/step - loss: 0.3882 - val_loss: 0.3735\n",
      "Epoch 7/100\n",
      "21/21 [==============================] - 5s 253ms/step - loss: 0.3524 - val_loss: 0.3441\n",
      "Epoch 8/100\n",
      "21/21 [==============================] - 5s 249ms/step - loss: 0.3239 - val_loss: 0.3262\n",
      "Epoch 9/100\n",
      "21/21 [==============================] - 5s 254ms/step - loss: 0.3045 - val_loss: 0.3092\n",
      "Epoch 10/100\n",
      "21/21 [==============================] - 5s 256ms/step - loss: 0.2869 - val_loss: 0.2967\n",
      "Epoch 11/100\n",
      "21/21 [==============================] - 5s 251ms/step - loss: 0.2752 - val_loss: 0.2931\n",
      "Epoch 12/100\n",
      "21/21 [==============================] - 8s 372ms/step - loss: 0.2668 - val_loss: 0.2917\n",
      "Epoch 13/100\n",
      "21/21 [==============================] - 7s 317ms/step - loss: 0.2626 - val_loss: 0.2887\n",
      "Epoch 14/100\n",
      "21/21 [==============================] - 5s 253ms/step - loss: 0.2547 - val_loss: 0.2877\n",
      "Epoch 15/100\n",
      "21/21 [==============================] - 5s 251ms/step - loss: 0.2496 - val_loss: 0.2894\n",
      "Epoch 16/100\n",
      "21/21 [==============================] - 5s 240ms/step - loss: 0.2456 - val_loss: 0.2924\n",
      "Epoch 17/100\n",
      "21/21 [==============================] - 5s 244ms/step - loss: 0.2435 - val_loss: 0.2937\n",
      "Epoch 18/100\n",
      "21/21 [==============================] - 5s 241ms/step - loss: 0.2418 - val_loss: 0.2950\n",
      "Epoch 19/100\n",
      "21/21 [==============================] - 6s 267ms/step - loss: 0.2379 - val_loss: 0.3017\n"
     ]
    },
    {
     "data": {
      "image/png": "[encoded data removed]",
      "text/plain": [
       "<Figure size 640x480 with 1 Axes>"
      ]
     },
     "metadata": {},
     "output_type": "display_data"
    },
    {
     "name": "stdout",
     "output_type": "stream",
     "text": [
      "Stopped training after 19 epochs!\n"
     ]
    }
   ],
   "source": [
    "# Compilation\n",
    "model.compile(loss=training_parameters[\"loss\"], optimizer=training_parameters[\"optimizer\"], run_eagerly=True)\n",
    "\n",
    "# Training\n",
    "early_stopping = tf.keras.callbacks.EarlyStopping(monitor=training_parameters[\"monitored_func\"], patience=5, restore_best_weights=True)\n",
    "history = model.fit(x=X_train, y=y_train, epochs=training_parameters[\"epochs\"], validation_data=(X_test, y_test), callbacks=[early_stopping])\n",
    "\n",
    "# Plot training history\n",
    "plt.plot(history.history[\"loss\"], label='training loss')\n",
    "plt.plot(history.history[\"val_loss\"],label='validation loss')\n",
    "plt.title(\"loss function\")\n",
    "plt.ylabel(\"loss\")\n",
    "plt.xlabel(\"epoch\")\n",
    "plt.legend(loc=\"upper right\")\n",
    "plt.show()\n",
    "\n",
    "# Plot training results\n",
    "print(f\"Stopped training after {len(history.epoch)} epochs!\")"
   ]
  },
  {
   "attachments": {},
   "cell_type": "markdown",
   "metadata": {},
   "source": [
    "## Evaluation\n",
    "\n",
    "Here we evaluate the training results of our model and print out several metrics. \n",
    "Remember: we've selected the hamming score as our main score for comparison."
   ]
  },
  {
   "cell_type": "code",
   "execution_count": 32,
   "metadata": {},
   "outputs": [
    {
     "name": "stdout",
     "output_type": "stream",
     "text": [
      "6/6 [==============================] - 1s 101ms/step\n",
      "\n",
      "Convolutional Neural Network - Test Set\n",
      "- subset accuracy: 1 %\n",
      "- hamming score 0.12\n",
      "- f1-scores:  [0.0, 0.08, 0.11, 0.2, 0.1, 0.24, 0.25, 0.13, 0.0, 0.2, 0.0, 0.0, 0.12, 0.0, 0.14, 0.0, 0.0, 0.27]\n",
      "- class accuracies:  [89, 85, 90, 80, 89, 81, 59, 67, 94, 60, 86, 98, 64, 96, 78, 91, 94, 54]\n"
     ]
    }
   ],
   "source": [
    "threshold = 0.1\n",
    "y_pred = model.predict(x=X_test) > threshold\n",
    "cnn_eval_metrics = EvaluationMetrics(y_true=y_test, y_pred=y_pred)\n",
    "cnn_eval_metrics.print_evaluation_report(test_description=\"Convolutional Neural Network - Test Set\")"
   ]
  }
 ],
 "metadata": {
  "kernelspec": {
   "display_name": "se15",
   "language": "python",
   "name": "python3"
  },
  "language_info": {
   "codemirror_mode": {
    "name": "ipython",
    "version": 3
   },
   "file_extension": ".py",
   "mimetype": "text/x-python",
   "name": "python",
   "nbconvert_exporter": "python",
   "pygments_lexer": "ipython3",
   "version": "3.10.9"
  },
  "orig_nbformat": 4,
  "vscode": {
   "interpreter": {
    "hash": "82d40570fe7a8cef5127558dff9f999d665f8f3c4074b1ee889e6c0afa23c999"
   }
  }
 },
 "nbformat": 4,
 "nbformat_minor": 2
}
