{
 "cells": [
  {
   "attachments": {},
   "cell_type": "markdown",
   "metadata": {},
   "source": [
    "# Evaluation\n",
    "\n",
    "In this notebook we pick up the result of our hyper parameter selection and evaluate the result of hyper-parameter selection.\n",
    "\n",
    "Based on our intended use of the model we have the following requirements:\n",
    "1) The model has a better haming score than random guessing and majority class guessing.\n",
    "2) The model has an F1 score of > 0.5 for all Pokémon types.\n",
    "3) The model delivers results in less than 1 second.\n",
    "\n",
    "The first requirement is a bare minimum, the second one is more strict and determines whether the model would actually be useful for us. We will consider this requirement nice to have. It should be noted that this is a very low bar to clear and is derived from this being intended as a teaching demonstrator.\n",
    "\n",
    "\n",
    "Furthermore, we intend to evaluate whether the final model exhibits overfitting.\n",
    "\n",
    "This notebook is structured as follows:\n",
    "1) Training: We load data and train the model.\n",
    "2) Hamming Score: we compare our model against the simple benchmarks.\n",
    "3) Individual classes: we evaluate the individual Pokémon classes.\n",
    "4) Time Measurement: we measure the prediction time.\n",
    "5) Overfitting: We test and discuss overfitting.\n",
    "6) Model Persistence: We store the trained model on hard disk so it can be used by other programs\n",
    "7) Conclusion: We summarize the achieved results and discuss implications\n"
   ]
  },
  {
   "cell_type": "code",
   "execution_count": 1,
   "metadata": {},
   "outputs": [
    {
     "name": "stdout",
     "output_type": "stream",
     "text": [
      "c:\\Users\\frank\\Documents\\Teaching\\LU\\Machine Learnin LU - Material\\Machine Learning Example Project\n"
     ]
    },
    {
     "name": "stderr",
     "output_type": "stream",
     "text": [
      "c:\\Users\\frank\\Documents\\Teaching\\LU\\Machine Learnin LU - Material\\Machine Learning Example Project\\ml_env\\lib\\site-packages\\IPython\\core\\magics\\osm.py:417: UserWarning: using dhist requires you to install the `pickleshare` library.\n",
      "  self.shell.db['dhist'] = compress_dhist(dhist)[-100:]\n"
     ]
    }
   ],
   "source": [
    "# correct working directory only once \n",
    "if not \"working_directory_corrected\" in vars():\n",
    "    %cd ..\n",
    "    working_directory_corrected = True\n",
    "\n",
    "import random\n",
    "import time\n",
    "import statistics \n",
    "\n",
    "import pandas as pd\n",
    "import numpy as np\n",
    "import tensorflow as tf\n",
    "import matplotlib.pyplot as plot\n",
    "\n",
    "from keras.preprocessing.image import ImageDataGenerator\n",
    "from sklearn.model_selection import train_test_split\n",
    "\n",
    "from models.majority_guessing_benchmark import MajorityGuessingBenchmark\n",
    "from models.random_guessing_benchmark import RandomGuessingBenchmark\n",
    "from models.cnn_builder import CNNBuilder \n",
    "from models.model_persistence import save_model \n",
    "\n",
    "from evaluation.evaluation_metrics import EvaluationMetrics\n",
    "\n",
    "from data.dataset import Dataset\n",
    "dataset = Dataset()\n"
   ]
  },
  {
   "attachments": {},
   "cell_type": "markdown",
   "metadata": {},
   "source": [
    "# 1) Training\n",
    "\n",
    "In this section we train the model we identified as best during hyper parameter selection. \n",
    "\n",
    "Overall, we create three datasets for this experiment:\n",
    "1) X_train, y_train: the training data used to learn the machine learning model\n",
    "2) X_val, y_val: validation data that will be used to determine early stopping.\n",
    "3) X_test, y_test: test data that will be used or evaluating the model.  \n",
    "\n",
    "For 3) we use the same random state for the train-test split as we did during hyper-parameter selection, to guarantee that the data has not been seen during hyper-parameter selection.\n"
   ]
  },
  {
   "cell_type": "code",
   "execution_count": 2,
   "metadata": {},
   "outputs": [],
   "source": [
    "X, y = dataset.get_prepared_data()\n",
    "X_train_val, X_test, y_train_val, y_test = train_test_split(X, y, test_size=0.2, random_state = 7)\n",
    "X_train, X_val, y_train, y_val = train_test_split(X_train_val,y_train_val, test_size = 0.2, random_state=7)\n",
    "y_train = np.array(object=[y_train[i] for i in range(len(y_train))])"
   ]
  },
  {
   "attachments": {},
   "cell_type": "markdown",
   "metadata": {},
   "source": [
    "With this data we learn our model. The patience for early stopping is increased in this experiment to give us more data for judging overfitting."
   ]
  },
  {
   "cell_type": "code",
   "execution_count": 3,
   "metadata": {},
   "outputs": [
    {
     "name": "stderr",
     "output_type": "stream",
     "text": [
      "C:\\Users\\frank\\AppData\\Local\\Temp\\ipykernel_11060\\2606575723.py:18: UserWarning: `Model.fit_generator` is deprecated and will be removed in a future version. Please use `Model.fit`, which supports generators.\n",
      "  history = model.fit_generator(train_generator, epochs=100, validation_data=(X_test, y_test), callbacks=[early_stopping], verbose=1)\n"
     ]
    },
    {
     "name": "stdout",
     "output_type": "stream",
     "text": [
      "Epoch 1/100\n",
      "17/17 [==============================] - 13s 724ms/step - loss: 0.3333 - val_loss: 0.2733\n",
      "Epoch 2/100\n",
      "17/17 [==============================] - 14s 814ms/step - loss: 0.2810 - val_loss: 0.2684\n",
      "Epoch 3/100\n",
      "17/17 [==============================] - 14s 791ms/step - loss: 0.2725 - val_loss: 0.2635\n",
      "Epoch 4/100\n",
      "17/17 [==============================] - 15s 850ms/step - loss: 0.2693 - val_loss: 0.2633\n",
      "Epoch 5/100\n",
      "17/17 [==============================] - 14s 807ms/step - loss: 0.2669 - val_loss: 0.2622\n",
      "Epoch 6/100\n",
      "17/17 [==============================] - 15s 880ms/step - loss: 0.2640 - val_loss: 0.2579\n",
      "Epoch 7/100\n",
      "17/17 [==============================] - 13s 751ms/step - loss: 0.2613 - val_loss: 0.2607\n",
      "Epoch 8/100\n",
      "17/17 [==============================] - 13s 779ms/step - loss: 0.2550 - val_loss: 0.2574\n",
      "Epoch 9/100\n",
      "17/17 [==============================] - 13s 733ms/step - loss: 0.2539 - val_loss: 0.2571\n",
      "Epoch 10/100\n",
      "17/17 [==============================] - 13s 744ms/step - loss: 0.2511 - val_loss: 0.2582\n",
      "Epoch 11/100\n",
      "17/17 [==============================] - 13s 764ms/step - loss: 0.2497 - val_loss: 0.2583\n",
      "Epoch 12/100\n",
      "17/17 [==============================] - 14s 795ms/step - loss: 0.2478 - val_loss: 0.2576\n",
      "Epoch 13/100\n",
      "17/17 [==============================] - 14s 815ms/step - loss: 0.2423 - val_loss: 0.2530\n",
      "Epoch 14/100\n",
      "17/17 [==============================] - 13s 756ms/step - loss: 0.2439 - val_loss: 0.2580\n",
      "Epoch 15/100\n",
      "17/17 [==============================] - 13s 758ms/step - loss: 0.2392 - val_loss: 0.2564\n",
      "Epoch 16/100\n",
      "17/17 [==============================] - 13s 778ms/step - loss: 0.2369 - val_loss: 0.2594\n",
      "Epoch 17/100\n",
      "17/17 [==============================] - 14s 787ms/step - loss: 0.2391 - val_loss: 0.2592\n",
      "Epoch 18/100\n",
      "17/17 [==============================] - 13s 769ms/step - loss: 0.2373 - val_loss: 0.2553\n",
      "Epoch 19/100\n",
      "17/17 [==============================] - 13s 777ms/step - loss: 0.2334 - val_loss: 0.2597\n",
      "Epoch 20/100\n",
      "17/17 [==============================] - 14s 813ms/step - loss: 0.2315 - val_loss: 0.2572\n",
      "Epoch 21/100\n",
      "17/17 [==============================] - 10s 581ms/step - loss: 0.2321 - val_loss: 0.2558\n",
      "Epoch 22/100\n",
      "17/17 [==============================] - 13s 749ms/step - loss: 0.2311 - val_loss: 0.2530\n",
      "Epoch 23/100\n",
      "17/17 [==============================] - 15s 857ms/step - loss: 0.2264 - val_loss: 0.2582\n",
      "Epoch 24/100\n",
      "17/17 [==============================] - 12s 696ms/step - loss: 0.2290 - val_loss: 0.2573\n",
      "Epoch 25/100\n",
      "17/17 [==============================] - 13s 735ms/step - loss: 0.2278 - val_loss: 0.2570\n",
      "Epoch 26/100\n",
      "17/17 [==============================] - 10s 600ms/step - loss: 0.2227 - val_loss: 0.2568\n",
      "Epoch 27/100\n",
      "17/17 [==============================] - 9s 540ms/step - loss: 0.2260 - val_loss: 0.2602\n",
      "Epoch 28/100\n",
      "17/17 [==============================] - 10s 554ms/step - loss: 0.2242 - val_loss: 0.2644\n",
      "Epoch 29/100\n",
      "17/17 [==============================] - 10s 576ms/step - loss: 0.2196 - val_loss: 0.2582\n",
      "Epoch 30/100\n",
      "17/17 [==============================] - 10s 576ms/step - loss: 0.2199 - val_loss: 0.2588\n",
      "Epoch 31/100\n",
      "17/17 [==============================] - 10s 562ms/step - loss: 0.2174 - val_loss: 0.2615\n",
      "Epoch 32/100\n",
      "17/17 [==============================] - 10s 560ms/step - loss: 0.2153 - val_loss: 0.2641\n",
      "Epoch 33/100\n",
      "17/17 [==============================] - 10s 556ms/step - loss: 0.2152 - val_loss: 0.2580\n",
      "17/17 [==============================] - 2s 91ms/step\n",
      "5/5 [==============================] - 0s 70ms/step\n",
      "6/6 [==============================] - 0s 63ms/step\n"
     ]
    }
   ],
   "source": [
    "train_datagen = ImageDataGenerator(\n",
    "                            rotation_range=30, \n",
    "                            width_shift_range=0.1, \n",
    "                            height_shift_range=0.1, \n",
    "                            fill_mode=\"nearest\"\n",
    "                        )\n",
    "train_generator = train_datagen.flow(X_train,y_train)\n",
    "\n",
    "cnn_builder = CNNBuilder(\n",
    "                            convolutional_layers=[16],\n",
    "                            fully_connected_layers=[250],\n",
    "                            in_shape=(X_train.shape[1], X_train.shape[2], X_train.shape[3]),    # type: ignore\n",
    "                            out_shape=y_train.shape[1]  # type: ignore\n",
    "                        )\n",
    "model = cnn_builder.build_model()\n",
    "\n",
    "early_stopping = tf.keras.callbacks.EarlyStopping(monitor=\"val_loss\", patience=20, restore_best_weights=True)\n",
    "history = model.fit_generator(train_generator, epochs=100, validation_data=(X_test, y_test), callbacks=[early_stopping], verbose=1)\n",
    "\n",
    "y_pred = model.predict(x=X_train) > 0.15\n",
    "train_metrics = EvaluationMetrics(y_true=y_train, y_pred=y_pred)   # type: ignore\n",
    "\n",
    "y_pred_val = model.predict(x=X_val) > 0.15\n",
    "validation_metrics = EvaluationMetrics(y_true=y_val, y_pred=y_pred_val)   # type: ignore\n",
    "\n",
    "y_pred_test = model.predict(x=X_test) > 0.15\n",
    "test_metrics = EvaluationMetrics(y_true=y_test, y_pred=y_pred_test)    # type: ignore"
   ]
  },
  {
   "attachments": {},
   "cell_type": "markdown",
   "metadata": {},
   "source": [
    "Below we build two dataframes that we will be used during the later evaluation chapters:\n",
    "- *score_dataframe* contains the score of the whole model and comparison to the two simple benchmarks\n",
    "- *classes_dataframe* contains the individual scores of the Pokemon classes."
   ]
  },
  {
   "cell_type": "code",
   "execution_count": 4,
   "metadata": {},
   "outputs": [],
   "source": [
    "majority_guessing = MajorityGuessingBenchmark(dataset.get_labels(), \"Water\")\n",
    "y_pred_test = majority_guessing.predict(X=X_test) # type: ignore\n",
    "majority_test_metrics = EvaluationMetrics(y_true=y_test, y_pred=y_pred_test)  # type: ignore\n",
    "\n",
    "random_guessing = RandomGuessingBenchmark(dataset.get_labels())\n",
    "y_pred_test = random_guessing.predict(X=X_test) # type: ignore\n",
    "random_test_metrics = EvaluationMetrics(y_true=y_test, y_pred=y_pred_test)  # type: ignore\n",
    "\n",
    "score_dataframe = pd.DataFrame({ \n",
    "                        \"model\":[ \"Majority Guessing\", \n",
    "                                \"Random Guessing\",\n",
    "                                \"CNN(training)\",\n",
    "                                \"CNN(validation)\", \n",
    "                                \"CNN(test)\"],\n",
    "                        \"subset accuracy\":[ majority_test_metrics.subset_accuracy, \n",
    "                                random_test_metrics.subset_accuracy, \n",
    "                                train_metrics.subset_accuracy, \n",
    "                                validation_metrics.subset_accuracy, \n",
    "                                test_metrics.subset_accuracy],\n",
    "                        \"hamming score\":[majority_test_metrics.hamming_score, \n",
    "                                random_test_metrics.hamming_score, \n",
    "                                train_metrics.hamming_score,\n",
    "                                validation_metrics.hamming_score,  \n",
    "                                test_metrics.hamming_score]\n",
    "                        })\n",
    "\n",
    "\n",
    "classes_dataframe = pd.DataFrame(dataset.get_labels(),columns=[\"type\"])\n",
    "classes_dataframe[\"f1_train\"] = train_metrics.f1_scores\n",
    "classes_dataframe[\"class_acc_train\"] = train_metrics.class_accuracies\n",
    "classes_dataframe[\"f1_test\"] = test_metrics.f1_scores\n",
    "classes_dataframe[\"class_acc_test\"] = test_metrics.class_accuracies\n",
    "classes_dataframe[\"count\"] = [np.count_nonzero(y_test[index] >0) for index in range(len(dataset.get_labels()))]"
   ]
  },
  {
   "attachments": {},
   "cell_type": "markdown",
   "metadata": {},
   "source": [
    "# 2) Hamming Score\n",
    "Here we observe the results we achieved with our model and compare them against our simple benchmarks."
   ]
  },
  {
   "cell_type": "code",
   "execution_count": 5,
   "metadata": {},
   "outputs": [
    {
     "data": {
      "text/html": [
       "<div>\n",
       "<style scoped>\n",
       "    .dataframe tbody tr th:only-of-type {\n",
       "        vertical-align: middle;\n",
       "    }\n",
       "\n",
       "    .dataframe tbody tr th {\n",
       "        vertical-align: top;\n",
       "    }\n",
       "\n",
       "    .dataframe thead th {\n",
       "        text-align: right;\n",
       "    }\n",
       "</style>\n",
       "<table border=\"1\" class=\"dataframe\">\n",
       "  <thead>\n",
       "    <tr style=\"text-align: right;\">\n",
       "      <th></th>\n",
       "      <th>model</th>\n",
       "      <th>subset accuracy</th>\n",
       "      <th>hamming score</th>\n",
       "    </tr>\n",
       "  </thead>\n",
       "  <tbody>\n",
       "    <tr>\n",
       "      <th>0</th>\n",
       "      <td>Majority Guessing</td>\n",
       "      <td>9</td>\n",
       "      <td>0.14</td>\n",
       "    </tr>\n",
       "    <tr>\n",
       "      <th>1</th>\n",
       "      <td>Random Guessing</td>\n",
       "      <td>9</td>\n",
       "      <td>0.10</td>\n",
       "    </tr>\n",
       "    <tr>\n",
       "      <th>4</th>\n",
       "      <td>CNN(test)</td>\n",
       "      <td>14</td>\n",
       "      <td>0.26</td>\n",
       "    </tr>\n",
       "  </tbody>\n",
       "</table>\n",
       "</div>"
      ],
      "text/plain": [
       "               model  subset accuracy  hamming score\n",
       "0  Majority Guessing                9           0.14\n",
       "1    Random Guessing                9           0.10\n",
       "4          CNN(test)               14           0.26"
      ]
     },
     "execution_count": 5,
     "metadata": {},
     "output_type": "execute_result"
    }
   ],
   "source": [
    "score_dataframe[score_dataframe[\"model\"].isin([\"Majority Guessing\",\"Random Guessing\", \"CNN(test)\"])]"
   ]
  },
  {
   "attachments": {},
   "cell_type": "markdown",
   "metadata": {},
   "source": [
    "As can be seen in the results of the above cell, our model significantly outperforms both the majority and random guessing benchmark. As in our initial tests, majority guessing is a lot better than random guessing and our convolutional neural network outperforms majority guessing almost by a factor of two. "
   ]
  },
  {
   "attachments": {},
   "cell_type": "markdown",
   "metadata": {},
   "source": [
    "# 3) Individual classes\n",
    "\n",
    "Here we look at the F1 scores class by class to understand how well the respective classes are predicted. \n",
    "\n",
    "The below cell lists the F1 score and accuracy on the test set per class."
   ]
  },
  {
   "cell_type": "code",
   "execution_count": 6,
   "metadata": {},
   "outputs": [
    {
     "data": {
      "text/html": [
       "<div>\n",
       "<style scoped>\n",
       "    .dataframe tbody tr th:only-of-type {\n",
       "        vertical-align: middle;\n",
       "    }\n",
       "\n",
       "    .dataframe tbody tr th {\n",
       "        vertical-align: top;\n",
       "    }\n",
       "\n",
       "    .dataframe thead th {\n",
       "        text-align: right;\n",
       "    }\n",
       "</style>\n",
       "<table border=\"1\" class=\"dataframe\">\n",
       "  <thead>\n",
       "    <tr style=\"text-align: right;\">\n",
       "      <th></th>\n",
       "      <th>type</th>\n",
       "      <th>f1_test</th>\n",
       "      <th>class_acc_test</th>\n",
       "      <th>count</th>\n",
       "    </tr>\n",
       "  </thead>\n",
       "  <tbody>\n",
       "    <tr>\n",
       "      <th>0</th>\n",
       "      <td>Bug</td>\n",
       "      <td>0.42</td>\n",
       "      <td>86</td>\n",
       "      <td>1</td>\n",
       "    </tr>\n",
       "    <tr>\n",
       "      <th>1</th>\n",
       "      <td>Dark</td>\n",
       "      <td>0.00</td>\n",
       "      <td>96</td>\n",
       "      <td>2</td>\n",
       "    </tr>\n",
       "    <tr>\n",
       "      <th>2</th>\n",
       "      <td>Dragon</td>\n",
       "      <td>0.12</td>\n",
       "      <td>91</td>\n",
       "      <td>2</td>\n",
       "    </tr>\n",
       "    <tr>\n",
       "      <th>3</th>\n",
       "      <td>Electric</td>\n",
       "      <td>0.00</td>\n",
       "      <td>94</td>\n",
       "      <td>2</td>\n",
       "    </tr>\n",
       "    <tr>\n",
       "      <th>4</th>\n",
       "      <td>Fairy</td>\n",
       "      <td>0.00</td>\n",
       "      <td>94</td>\n",
       "      <td>1</td>\n",
       "    </tr>\n",
       "    <tr>\n",
       "      <th>5</th>\n",
       "      <td>Fighting</td>\n",
       "      <td>0.19</td>\n",
       "      <td>90</td>\n",
       "      <td>1</td>\n",
       "    </tr>\n",
       "    <tr>\n",
       "      <th>6</th>\n",
       "      <td>Fire</td>\n",
       "      <td>0.38</td>\n",
       "      <td>84</td>\n",
       "      <td>1</td>\n",
       "    </tr>\n",
       "    <tr>\n",
       "      <th>7</th>\n",
       "      <td>Flying</td>\n",
       "      <td>0.42</td>\n",
       "      <td>86</td>\n",
       "      <td>2</td>\n",
       "    </tr>\n",
       "    <tr>\n",
       "      <th>8</th>\n",
       "      <td>Ghost</td>\n",
       "      <td>0.00</td>\n",
       "      <td>94</td>\n",
       "      <td>1</td>\n",
       "    </tr>\n",
       "    <tr>\n",
       "      <th>9</th>\n",
       "      <td>Grass</td>\n",
       "      <td>0.47</td>\n",
       "      <td>89</td>\n",
       "      <td>2</td>\n",
       "    </tr>\n",
       "    <tr>\n",
       "      <th>10</th>\n",
       "      <td>Ground</td>\n",
       "      <td>0.00</td>\n",
       "      <td>93</td>\n",
       "      <td>1</td>\n",
       "    </tr>\n",
       "    <tr>\n",
       "      <th>11</th>\n",
       "      <td>Ice</td>\n",
       "      <td>0.00</td>\n",
       "      <td>94</td>\n",
       "      <td>1</td>\n",
       "    </tr>\n",
       "    <tr>\n",
       "      <th>12</th>\n",
       "      <td>Normal</td>\n",
       "      <td>0.35</td>\n",
       "      <td>70</td>\n",
       "      <td>1</td>\n",
       "    </tr>\n",
       "    <tr>\n",
       "      <th>13</th>\n",
       "      <td>Poison</td>\n",
       "      <td>0.00</td>\n",
       "      <td>94</td>\n",
       "      <td>1</td>\n",
       "    </tr>\n",
       "    <tr>\n",
       "      <th>14</th>\n",
       "      <td>Psychic</td>\n",
       "      <td>0.00</td>\n",
       "      <td>90</td>\n",
       "      <td>2</td>\n",
       "    </tr>\n",
       "    <tr>\n",
       "      <th>15</th>\n",
       "      <td>Rock</td>\n",
       "      <td>0.11</td>\n",
       "      <td>90</td>\n",
       "      <td>2</td>\n",
       "    </tr>\n",
       "    <tr>\n",
       "      <th>16</th>\n",
       "      <td>Steel</td>\n",
       "      <td>0.25</td>\n",
       "      <td>93</td>\n",
       "      <td>1</td>\n",
       "    </tr>\n",
       "    <tr>\n",
       "      <th>17</th>\n",
       "      <td>Water</td>\n",
       "      <td>0.55</td>\n",
       "      <td>82</td>\n",
       "      <td>1</td>\n",
       "    </tr>\n",
       "  </tbody>\n",
       "</table>\n",
       "</div>"
      ],
      "text/plain": [
       "        type  f1_test  class_acc_test  count\n",
       "0        Bug     0.42              86      1\n",
       "1       Dark     0.00              96      2\n",
       "2     Dragon     0.12              91      2\n",
       "3   Electric     0.00              94      2\n",
       "4      Fairy     0.00              94      1\n",
       "5   Fighting     0.19              90      1\n",
       "6       Fire     0.38              84      1\n",
       "7     Flying     0.42              86      2\n",
       "8      Ghost     0.00              94      1\n",
       "9      Grass     0.47              89      2\n",
       "10    Ground     0.00              93      1\n",
       "11       Ice     0.00              94      1\n",
       "12    Normal     0.35              70      1\n",
       "13    Poison     0.00              94      1\n",
       "14   Psychic     0.00              90      2\n",
       "15      Rock     0.11              90      2\n",
       "16     Steel     0.25              93      1\n",
       "17     Water     0.55              82      1"
      ]
     },
     "execution_count": 6,
     "metadata": {},
     "output_type": "execute_result"
    }
   ],
   "source": [
    "classes_dataframe.drop(labels=[\"f1_train\",\"class_acc_train\"], axis = 1, inplace=False)"
   ]
  },
  {
   "attachments": {},
   "cell_type": "markdown",
   "metadata": {},
   "source": [
    "As can be seen, most F1 scores on the test set are significantly below 0.5. In our test run, only \"Water\" pokemon are predicted with an F1 score of > 0.5 and Pokemon of a type \"Dark\", \"Dragon\", \"Fire\",\"Flying\", \"Grass\" and \"Normal\",  are predicted with an F1 score of >0.25. All others are predicted with an F1 score of less than 0.25.\n",
    "\n",
    "The data also enables some additional insights:\n",
    "- It showcases why accuracy would not have been a good comparison metric. Due to the high sparsity, the accuracy scores are quite high - as it is easy to achieve a high accuracy by predicting zeros. \n",
    "-  It can also be noted that the number of samples for each class in the test set is fairly low. "
   ]
  },
  {
   "attachments": {},
   "cell_type": "markdown",
   "metadata": {},
   "source": [
    "# 4) Time Measurement\n",
    "\n",
    "Here we test how long the prediction of one pokemon takes. For this purpose, we predict 100 random samples and record how long the prediction takes on average, minimum and maximum.\n",
    "\n",
    "This can be repeated on the below cell."
   ]
  },
  {
   "cell_type": "code",
   "execution_count": 7,
   "metadata": {},
   "outputs": [
    {
     "name": "stdout",
     "output_type": "stream",
     "text": [
      "Maximum: 0.24 s\n",
      "Minimum: 0.08 s\n",
      "Average: 0.09 s\n"
     ]
    }
   ],
   "source": [
    "durations = []\n",
    "for i in range(100):\n",
    "    start_time = time.time()\n",
    "    model.predict(x=np.array([random.choice(X_train)]),verbose=0)   # type: ignore\n",
    "    end_time = time.time()\n",
    "    durations.append(end_time-start_time)\n",
    "\n",
    "print(\"Maximum:\",round(max(durations),2),\"s\")\n",
    "print(\"Minimum:\",round(min(durations),2),\"s\")\n",
    "print(\"Average:\",round(statistics.mean(durations),2),\"s\")"
   ]
  },
  {
   "attachments": {},
   "cell_type": "markdown",
   "metadata": {},
   "source": [
    "When we executed this cell on a [Lenovo Thinkpad X280](https://www.lenovo.com/de/de/laptops/thinkpad/x-series/ThinkPad-X280/p/22TP2TX2800)  (Core i5-8250U CPU, 16 GB RAM) the we received a minimum time of 0.1 seconds, a maximum time of 0.53 seconds and an average time of 0.15 seconds. These times are well below the threshold of one second."
   ]
  },
  {
   "attachments": {},
   "cell_type": "markdown",
   "metadata": {},
   "source": [
    "# 5) Overfitting\n",
    "Overfitting was a major concern in all previous experiments. For this reason we want to observe how much our final model is affected by overfitting.\n",
    "\n",
    "First, we compare the results on the training, validation and test set to get some information about the differences in scores. Below we plot the subset accuracy and hamming score in a table."
   ]
  },
  {
   "cell_type": "code",
   "execution_count": 8,
   "metadata": {},
   "outputs": [
    {
     "data": {
      "text/html": [
       "<div>\n",
       "<style scoped>\n",
       "    .dataframe tbody tr th:only-of-type {\n",
       "        vertical-align: middle;\n",
       "    }\n",
       "\n",
       "    .dataframe tbody tr th {\n",
       "        vertical-align: top;\n",
       "    }\n",
       "\n",
       "    .dataframe thead th {\n",
       "        text-align: right;\n",
       "    }\n",
       "</style>\n",
       "<table border=\"1\" class=\"dataframe\">\n",
       "  <thead>\n",
       "    <tr style=\"text-align: right;\">\n",
       "      <th></th>\n",
       "      <th>model</th>\n",
       "      <th>subset accuracy</th>\n",
       "      <th>hamming score</th>\n",
       "    </tr>\n",
       "  </thead>\n",
       "  <tbody>\n",
       "    <tr>\n",
       "      <th>2</th>\n",
       "      <td>CNN(training)</td>\n",
       "      <td>17</td>\n",
       "      <td>0.31</td>\n",
       "    </tr>\n",
       "    <tr>\n",
       "      <th>3</th>\n",
       "      <td>CNN(validation)</td>\n",
       "      <td>12</td>\n",
       "      <td>0.24</td>\n",
       "    </tr>\n",
       "    <tr>\n",
       "      <th>4</th>\n",
       "      <td>CNN(test)</td>\n",
       "      <td>14</td>\n",
       "      <td>0.26</td>\n",
       "    </tr>\n",
       "  </tbody>\n",
       "</table>\n",
       "</div>"
      ],
      "text/plain": [
       "             model  subset accuracy  hamming score\n",
       "2    CNN(training)               17           0.31\n",
       "3  CNN(validation)               12           0.24\n",
       "4        CNN(test)               14           0.26"
      ]
     },
     "execution_count": 8,
     "metadata": {},
     "output_type": "execute_result"
    }
   ],
   "source": [
    "score_dataframe[score_dataframe[\"model\"].isin([\"CNN(test)\",\"CNN(training)\",\"CNN(validation)\"])]"
   ]
  },
  {
   "attachments": {},
   "cell_type": "markdown",
   "metadata": {},
   "source": [
    "During our test, the model achieved a hamming score of 0.38 on the training data and 0.22 both on the validation and test data. A similar score difference was obserfed for subset accuracy. \n",
    "\n",
    "This leads us to believe that the model has already overfit to the training data. It also indicates that the process of using the validation data as early stopping indicator did not significantly impact the ability to generalize as the model achieves similar results on the validation and test dataset.\n",
    "\n",
    "To further validate our impression of overfitting we can compare the F1 scores per class achieved on the training and test data. Below we plot a comparison."
   ]
  },
  {
   "cell_type": "code",
   "execution_count": 9,
   "metadata": {},
   "outputs": [
    {
     "data": {
      "image/png": "[encoded data removed]",
      "text/plain": [
       "<Figure size 640x480 with 1 Axes>"
      ]
     },
     "metadata": {},
     "output_type": "display_data"
    }
   ],
   "source": [
    "classes_dataframe.plot.bar(x=\"type\", y=[\"f1_test\", \"f1_train\"], rot=70, title=\"F1 scores per pokémon type\") # type: ignore\n",
    "plot.show(block=True)"
   ]
  },
  {
   "attachments": {},
   "cell_type": "markdown",
   "metadata": {},
   "source": [
    "The plotted F1 score shows that the  difference of the F1 scores follows the same pattern as the overall hamming score. The test scores are similar or worse than the training scores in all classes. Due to the low overall number of data, this plot should be taken with a grain of salt. "
   ]
  },
  {
   "attachments": {},
   "cell_type": "markdown",
   "metadata": {},
   "source": [
    "Finally, in the context of overfitting, it is of interest to see how much the model could have overfit given time. Our training setup used the model with the best validation score. However, it was configured to continue for 25 more epochs and recoreded the scores over these epochs.\n",
    "\n",
    "Below is a comparison plot of the development training and validation loss over the traing duration. "
   ]
  },
  {
   "cell_type": "code",
   "execution_count": 11,
   "metadata": {},
   "outputs": [
    {
     "data": {
      "image/png": "[encoded data removed]",
      "text/plain": [
       "<Figure size 640x480 with 1 Axes>"
      ]
     },
     "metadata": {},
     "output_type": "display_data"
    }
   ],
   "source": [
    "# plot training history\n",
    "plot.plot(history.history[\"loss\"], label=\"training loss\")\n",
    "plot.plot(history.history[\"val_loss\"], label=\"test loss\")\n",
    "plot.title(\"Comparison of Training and Test loss\")\n",
    "plot.ylabel(\"loss\")\n",
    "plot.xlabel(\"epoch\")\n",
    "plot.legend(loc=\"upper right\")\n",
    "plot.show()"
   ]
  },
  {
   "attachments": {},
   "cell_type": "markdown",
   "metadata": {},
   "source": [
    "The plot shows clear signs of overfitting. After about 5 epochs, the training and validation scores diverge. By epoch 35, the training score already is about 20% lower on the training set. The training score shows no sign of flattening and thus may diverge even more if given more epochs."
   ]
  },
  {
   "attachments": {},
   "cell_type": "markdown",
   "metadata": {},
   "source": [
    "# 6) Model Persistence\n",
    "In this section we do not test anything. We merely store the learned model to hard drive via the below cell."
   ]
  },
  {
   "cell_type": "code",
   "execution_count": null,
   "metadata": {},
   "outputs": [
    {
     "name": "stdout",
     "output_type": "stream",
     "text": [
      "Storing the model Pokemon_CNN in:\n",
      "C:\\Users\\frank\\Documents\\Teaching\\LU\\Spring2023\\Machine Learning² Unit\\Machine Learning Example Project\\models\\snapshots\\Pokemon_CNN_V_1\n",
      "The model is successfully saved:\n",
      "\n",
      "    - Model Name: Pokemon_CNN\n",
      "    - Model Saving Path: C:\\Users\\frank\\Documents\\Teaching\\LU\\Spring2023\\Machine Learning² Unit\\Machine Learning Example Project\\models\\snapshots\\Pokemon_CNN_V_1\\Pokemon_CNN_v_1.h5\n"
     ]
    }
   ],
   "source": [
    "save_model(\n",
    "    ml_library=\"tensorflow\",\n",
    "    model=model,\n",
    "    model_name=\"Pokemon_CNN\",\n",
    "    model_version=1,\n",
    "    model_dir_version=1\n",
    ")"
   ]
  },
  {
   "attachments": {},
   "cell_type": "markdown",
   "metadata": {},
   "source": [
    "# 7) Conclusion:\n",
    "\n",
    "Sections 2 to 4 showed that while our model beats the naive benchmarks (Section 2) and is fast enough for our purposes (Section 4), it does not exhibit the necessary quality of prediction (Section 3).\n",
    "\n",
    "This means, while we could techincally use our model for the intended purpose, it performs very badly. However, since our purpose is only to build a teaching demonstrator, this is not an issue.\n",
    "\n",
    "\n",
    "As the discussion of overfitting shows, the final result still is affected by a significant degree of overfitting. Connecting this result with earlier findings, we believe that the reason is the low amount of data per pokemon class, which reduces the variance of input that can be shown to the model during training ad thus also reduces the ability of the model to generalize to new Pokemon. \n",
    "\n",
    "If we extend this project in future work, an extension of the data basis needs to be a big part of it.\n",
    "\n"
   ]
  }
 ],
 "metadata": {
  "kernelspec": {
   "display_name": "ml_env_kernel",
   "language": "python",
   "name": "ml_env_kernel"
  },
  "language_info": {
   "codemirror_mode": {
    "name": "ipython",
    "version": 3
   },
   "file_extension": ".py",
   "mimetype": "text/x-python",
   "name": "python",
   "nbconvert_exporter": "python",
   "pygments_lexer": "ipython3",
   "version": "3.10.7"
  },
  "orig_nbformat": 4,
  "vscode": {
   "interpreter": {
    "hash": "ab53a7abb5f76d8f9c9452b407a178cf94cc8aab5c0c1e9a6f1a2d94a40aba45"
   }
  }
 },
 "nbformat": 4,
 "nbformat_minor": 2
}
